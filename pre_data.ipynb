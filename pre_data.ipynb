{
 "cells": [
  {
   "cell_type": "code",
   "execution_count": 3,
   "metadata": {},
   "outputs": [],
   "source": [
    "import json as js\n",
    "import pandas\n",
    "from collections import defaultdict\n",
    "\n",
    "def OpenData():\n",
    "    with open(\"E://1数据挖掘/全部数据/train_data_complete.json\",'r', encoding='UTF-8') as load_f:\n",
    "        train_data_sample = js.load(load_f)\n",
    "        #print(train_data_sample[4])\n",
    "        \n",
    "    with open(\"E://1数据挖掘/全部数据/test_data_sample.json\",'r', encoding='UTF-8') as load_f:\n",
    "        test_data_sample = js.load(load_f)\n",
    "        #print(test_data_sample[4])\n",
    "    return train_data_sample,test_data_sample"
   ]
  },
  {
   "cell_type": "code",
   "execution_count": 4,
   "metadata": {},
   "outputs": [],
   "source": [
    "train_data_sample,test_data_sample = OpenData()"
   ]
  },
  {
   "cell_type": "code",
   "execution_count": 6,
   "metadata": {},
   "outputs": [
    {
     "data": {
      "text/plain": [
       "{'item_id': 100001,\n",
       " 'passages': [{'content': '高速占用应急车道行驶扣几分', 'label': 0, 'passage_id': 10000101},\n",
       "  {'content': '高速公路的应急车道是“生命通道”,很多朋友产生疑惑,换驾驶员、困了想临时休息、“方便”、打电话、为',\n",
       "   'label': 0,\n",
       "   'passage_id': 10000102},\n",
       "  {'content': '6分。', 'label': 1, 'passage_id': 10000103},\n",
       "  {'content': '违法占用应急车道扣几分? 核心内容:车辆在高速公路上行驶时候,违法占用应急车道要不要扣分?要扣分。那么 要扣几分?按照法律规定,违法占用应急车道要记6分,罚款200元。法律快车小编为您提 ...',\n",
       "   'label': 1,\n",
       "   'passage_id': 10000104},\n",
       "  {'content': '高速上停车给孩子换尿片,可以占用应急车道吗? 依据新交规,机动车在城市快速路、高速公路上遇交通拥堵时,非紧急情况下在应急车道、路肩上停车的,均罚款200元,记6分,...',\n",
       "   'label': 1,\n",
       "   'passage_id': 10000105},\n",
       "  {'content': '占用高速应急车道开车在《中华人民共和国道路交通安全法》中并没有详细的规定,但法规第九十条规定:机动车驾驶人违反道路交通安全法律、法规关于道路通行规定的,处警告或者二十元以上二百元以下罚款。 ...',\n",
       "   'label': 0,\n",
       "   'passage_id': 10000106},\n",
       "  {'content': '5分', 'label': 0, 'passage_id': 10000107},\n",
       "  {'content': '2017高速公路占用应急车道扣几分,应急车道顾名思义就是给专门处理紧急事故的车走的,一般我们在高速上行驶是不允许走应急车道的,那2017高速公路占用应急车道扣几分呢?...',\n",
       "   'label': 0,\n",
       "   'passage_id': 10000108},\n",
       "  {'content': '依据新交规,机动车在城市快速路、高速公路上遇交通拥堵时,非紧急情况下在应急车道、路肩上停车的,均罚款200元,记6分,15天内需要缴清。如果发生了紧急情况需要在高速应急车道上临时停车...',\n",
       "   'label': 1,\n",
       "   'passage_id': 10000109},\n",
       "  {'content': '占用应急车道扣几分 2017高速占用应急车道处罚 占用应急车道扣几分 2017高速占用应急车道处罚,高速公路的应急车道是“生命通道”,很多朋友产生疑惑,换驾驶员、困了想临...',\n",
       "   'label': 0,\n",
       "   'passage_id': 10000110}],\n",
       " 'question': '高速占用应急车道扣多少分'}"
      ]
     },
     "execution_count": 6,
     "metadata": {},
     "output_type": "execute_result"
    }
   ],
   "source": [
    "train_data_sample[0]"
   ]
  },
  {
   "cell_type": "code",
   "execution_count": 4,
   "metadata": {
    "collapsed": true
   },
   "outputs": [],
   "source": [
    "#提取出问题答案的文字\n",
    "\n",
    "A,L,item_id,Q = [],[],[],[]                 #储存为 问题 答案 标签\n",
    "#print(len(load_dict))\n",
    "for i in range(0,27000):\n",
    "    for j in range(0,len(train_data_sample[i]['passages'])):\n",
    "        A.append(train_data_sample[i]['passages'][j]['content'])                     #答案\n",
    "        #print(A)\n",
    "        L.append(train_data_sample[i]['passages'][j]['label'])                       #标签\n",
    "        item_id.append(train_data_sample[i]['item_id'])        #id\n",
    "        Q.append(train_data_sample[i]['question'])\n",
    "      \n",
    "\n",
    "    \n",
    "\n",
    "A2,L2,item_id2,Q2 = [],[],[],[]                 #储存为 问题 答案 标签\n",
    "#print(len(load_dict))\n",
    "for i in range(27000,len(train_data_sample)):\n",
    "    for j in range(0,len(train_data_sample[i]['passages'])):\n",
    "        A2.append(train_data_sample[i]['passages'][j]['content'])                     #答案\n",
    "        #print(A)\n",
    "        L2.append(train_data_sample[i]['passages'][j]['label'])                       #标签\n",
    "        item_id2.append(train_data_sample[i]['item_id'])        #id\n",
    "        Q2.append(train_data_sample[i]['question'])"
   ]
  },
  {
   "cell_type": "code",
   "execution_count": 13,
   "metadata": {},
   "outputs": [
    {
     "name": "stdout",
     "output_type": "stream",
     "text": [
      "127328 349691\n"
     ]
    }
   ],
   "source": [
    "c0,c1 = 0,0\n",
    "for i in L:\n",
    "    if i==1:\n",
    "        c0+=1\n",
    "    else:\n",
    "        c1+=1\n",
    "for i in L2:\n",
    "    if i==1:\n",
    "        c0+=1\n",
    "    else:\n",
    "        c1+=1\n",
    "print(c0,c1)"
   ]
  },
  {
   "cell_type": "code",
   "execution_count": 12,
   "metadata": {},
   "outputs": [
    {
     "name": "stdout",
     "output_type": "stream",
     "text": [
      "477019\n"
     ]
    }
   ],
   "source": [
    "print(len(A)+len(A2))"
   ]
  },
  {
   "cell_type": "code",
   "execution_count": 5,
   "metadata": {
    "collapsed": true
   },
   "outputs": [],
   "source": [
    "def addstopwords():\n",
    "    #询问数字\n",
    "    jieba.add_word('几')\n",
    "    jieba.del_word('几年')\n",
    "    jieba.del_word('几月')\n",
    "    jieba.del_word('几日')\n",
    "    jieba.del_word('几个')\n",
    "    jieba.add_word('多少')\n",
    "    #询问时间\n",
    "    jieba.add_word('什么时候')\n",
    "    jieba.add_word('何时')\n",
    "    \n",
    "    #询问原因\n",
    "    jieba.add_word('为什么')\n",
    "    jieba.add_word('为何')\n",
    "    jieba.add_word('什么原因')\n",
    "    #询问地方\n",
    "    jieba.add_word('哪里')\n",
    "    jieba.add_word('哪个')\n",
    "    jieba.add_word('那里')\n",
    "    #询问动作\n",
    "    jieba.add_word('怎么')\n",
    "    jieba.add_word('如何')\n",
    "    jieba.add_word('怎样')\n",
    "    #询问人\n",
    "    jieba.add_word('谁')"
   ]
  },
  {
   "cell_type": "code",
   "execution_count": 6,
   "metadata": {},
   "outputs": [
    {
     "name": "stderr",
     "output_type": "stream",
     "text": [
      "Building prefix dict from the default dictionary ...\n",
      "Loading model from cache C:\\Users\\ADMINI~1\\AppData\\Local\\Temp\\jieba.cache\n",
      "Loading model cost 1.065 seconds.\n",
      "Prefix dict has been built succesfully.\n"
     ]
    }
   ],
   "source": [
    "import jieba\n",
    "addstopwords()"
   ]
  },
  {
   "cell_type": "code",
   "execution_count": 7,
   "metadata": {},
   "outputs": [
    {
     "data": {
      "text/plain": [
       "['高速', '占用', '应急', '车道', '扣', '多少', '分']"
      ]
     },
     "execution_count": 7,
     "metadata": {},
     "output_type": "execute_result"
    }
   ],
   "source": [
    "list(jieba.cut(Q[0].strip(),cut_all=False))"
   ]
  },
  {
   "cell_type": "code",
   "execution_count": 9,
   "metadata": {},
   "outputs": [
    {
     "data": {
      "text/plain": [
       "['天空', '为什么', '是', '蓝色', '的']"
      ]
     },
     "execution_count": 9,
     "metadata": {},
     "output_type": "execute_result"
    }
   ],
   "source": [
    "list(jieba.cut('天空为什么是蓝色的'.strip(),cut_all=False))"
   ]
  },
  {
   "cell_type": "code",
   "execution_count": 8,
   "metadata": {},
   "outputs": [
    {
     "data": {
      "text/plain": [
       "'世界_上_有_多少_个_国家_?'"
      ]
     },
     "execution_count": 8,
     "metadata": {},
     "output_type": "execute_result"
    }
   ],
   "source": [
    "'_'.join(jieba.cut('世界上有多少个国家?'.strip(),cut_all=False))"
   ]
  },
  {
   "cell_type": "code",
   "execution_count": 9,
   "metadata": {
    "scrolled": false
   },
   "outputs": [
    {
     "name": "stdout",
     "output_type": "stream",
     "text": [
      "2018-04-09 17:23:26\n",
      "最大长度为 2406\n",
      "平均长度为 60.027042003768145\n",
      "2018-04-09 17:24:14\n"
     ]
    }
   ],
   "source": [
    "import time\n",
    "print (time.strftime(\"%Y-%m-%d %H:%M:%S\", time.localtime()))\n",
    "max_len = 0\n",
    "sum_len = 0\n",
    "for i in range(0,len(A)):\n",
    "    c_len = len(list(jieba.cut(A[i].strip(),cut_all=False)))\n",
    "    if c_len>max_len:\n",
    "        max_len = c_len\n",
    "        #print('更新长度')\n",
    "    else:\n",
    "        pass\n",
    "    sum_len+=c_len\n",
    "mean_len = sum_len/len(A)        \n",
    "print('最大长度为',max_len)\n",
    "print('平均长度为',mean_len)\n",
    "print (time.strftime(\"%Y-%m-%d %H:%M:%S\", time.localtime()))"
   ]
  },
  {
   "cell_type": "code",
   "execution_count": 1,
   "metadata": {
    "collapsed": true
   },
   "outputs": [],
   "source": [
    "def padding(line):\n",
    "    _len = 100\n",
    "    if len(line)<_len:\n",
    "        for pa in range(_len-len(line)):\n",
    "            line.append('<a>')\n",
    "    else:\n",
    "        line = line[0:100]\n",
    "        pass\n",
    "    return line\n",
    "def stopwordslist(filepath):  \n",
    "    stopwords = [line.strip() for line in open(filepath, 'r', encoding='utf-8').readlines()]  \n",
    "    return stopwords  \n",
    "\n",
    "# 对句子进行分词  \n",
    "def rm_tokens(sentence): \n",
    "    stopwords = stopwordslist('stop_words.txt')  \n",
    "    output = []\n",
    "    for word in sentence:  \n",
    "        if word not in stopwords:  \n",
    "            if word != '\\t':  \n",
    "                output.append(word)\n",
    "    return output"
   ]
  },
  {
   "cell_type": "code",
   "execution_count": 2,
   "metadata": {},
   "outputs": [
    {
     "name": "stdout",
     "output_type": "stream",
     "text": [
      "﻿一二三四五六七八九十零请？“”；：，。/《》?一个\"';:?.,/()-_--*/-+你我他它她这请问你好您好世界上世界第_________><的地得！＿、\n"
     ]
    }
   ],
   "source": [
    "stopwords = stopwordslist('stop_words.txt')\n",
    "print(''.join(stopwords))"
   ]
  },
  {
   "cell_type": "code",
   "execution_count": 14,
   "metadata": {},
   "outputs": [
    {
     "name": "stdout",
     "output_type": "stream",
     "text": [
      "['上', '•', '有', ' ', '几', '个', '国家']\n"
     ]
    },
    {
     "data": {
      "text/plain": [
       "'上_有_•_几_个_国家_<a>_<a>_<a>_<a>_<a>_<a>_<a>_<a>_<a>_<a>_<a>_<a>_<a>_<a>_<a>_<a>_<a>_<a>_<a>_<a>_<a>_<a>_<a>_<a>_<a>_<a>_<a>_<a>_<a>_<a>_<a>_<a>_<a>_<a>_<a>_<a>_<a>_<a>_<a>_<a>_<a>_<a>_<a>_<a>_<a>_<a>_<a>_<a>_<a>_<a>_<a>_<a>_<a>_<a>_<a>_<a>_<a>_<a>_<a>_<a>_<a>_<a>_<a>_<a>_<a>_<a>_<a>_<a>_<a>_<a>_<a>_<a>_<a>_<a>_<a>_<a>_<a>_<a>_<a>_<a>_<a>_<a>_<a>_<a>_<a>_<a>_<a>_<a>_<a>_<a>_<a>_<a>_<a>_<a>'"
      ]
     },
     "execution_count": 14,
     "metadata": {},
     "output_type": "execute_result"
    }
   ],
   "source": [
    "print(rm_tokens(jieba.cut('世界上•有 几个国家',cut_all=False)))\n",
    "'_'.join(padding(list(rm_tokens(jieba.cut('世界上       有•几个国家'.strip().replace(' ',''),cut_all=False)))))"
   ]
  },
  {
   "cell_type": "code",
   "execution_count": 15,
   "metadata": {},
   "outputs": [
    {
     "name": "stdout",
     "output_type": "stream",
     "text": [
      "429844 429844 47175 47175\n"
     ]
    }
   ],
   "source": [
    "print(len(A),len(Q),len(A2),len(Q2))"
   ]
  },
  {
   "cell_type": "code",
   "execution_count": 10,
   "metadata": {},
   "outputs": [
    {
     "data": {
      "text/plain": [
       "30000"
      ]
     },
     "execution_count": 10,
     "metadata": {},
     "output_type": "execute_result"
    }
   ],
   "source": [
    "len(train_data_sample)"
   ]
  },
  {
   "cell_type": "code",
   "execution_count": 16,
   "metadata": {},
   "outputs": [
    {
     "name": "stdout",
     "output_type": "stream",
     "text": [
      "2018-04-12 15:25:16\n",
      "2018-04-12 15:33:32\n",
      "2018-04-12 15:34:26\n"
     ]
    }
   ],
   "source": [
    "import time\n",
    "train_list = []\n",
    "test_list = []\n",
    "print (time.strftime(\"%Y-%m-%d %H:%M:%S\", time.localtime()))\n",
    "#for i in range(0,5):\n",
    "for i in range(0,len(A)):\n",
    "    tq = '_'.join(padding(list(rm_tokens(jieba.cut(Q[i].strip().replace(' ',''),cut_all=False)))))\n",
    "    ta = '_'.join(padding(list(rm_tokens(jieba.cut(A[i].strip().replace(' ',''),cut_all=False)))))\n",
    "    tl = 'qid:'+str(item_id[i])\n",
    "    train_list.append(' '.join([str(L[i]),tl,tq,ta]))\n",
    "print (time.strftime(\"%Y-%m-%d %H:%M:%S\", time.localtime()))\n",
    "#for i in range(0,5):\n",
    "for i in range(0,len(A2)):\n",
    "    tq2 = '_'.join(padding(list(rm_tokens(jieba.cut(Q2[i].strip().replace(' ',''),cut_all=False)))))\n",
    "    ta2 = '_'.join(padding(list(rm_tokens(jieba.cut(A2[i].strip().replace(' ',''),cut_all=False)))))\n",
    "    tl2 = 'qid:'+str(item_id2[i])\n",
    "    test_list.append(' '.join([str(L[i]),tl2,tq2,ta2]))\n",
    "print (time.strftime(\"%Y-%m-%d %H:%M:%S\", time.localtime()))"
   ]
  },
  {
   "cell_type": "code",
   "execution_count": 17,
   "metadata": {},
   "outputs": [
    {
     "name": "stdout",
     "output_type": "stream",
     "text": [
      "2018-04-12 15:34:33\n",
      "2018-04-12 15:34:34\n",
      "2018-04-12 15:34:34\n"
     ]
    }
   ],
   "source": [
    "print(time.strftime(\"%Y-%m-%d %H:%M:%S\", time.localtime()))\n",
    "\n",
    "ntrain_list = '\\n'.join(train_list)\n",
    "\n",
    "print(time.strftime(\"%Y-%m-%d %H:%M:%S\", time.localtime()))\n",
    "\n",
    "ntest_list = '\\n'.join(test_list)\n",
    "\n",
    "print(time.strftime(\"%Y-%m-%d %H:%M:%S\", time.localtime()))"
   ]
  },
  {
   "cell_type": "code",
   "execution_count": 18,
   "metadata": {},
   "outputs": [
    {
     "name": "stdout",
     "output_type": "stream",
     "text": [
      "训练/测试数据写入成功\n"
     ]
    }
   ],
   "source": [
    "import re\n",
    "f = open(\"D://1数据挖掘/C_pre_data/train\", \"w\", encoding='utf-8')\n",
    "f.write(ntrain_list)\n",
    "f.close()\n",
    "\n",
    "f = open(\"D://1数据挖掘/C_pre_data/test\", \"w\", encoding='utf-8')\n",
    "f.write(ntest_list)\n",
    "f.close()\n",
    "\n",
    "print('训练/测试数据写入成功')"
   ]
  }
 ],
 "metadata": {
  "kernelspec": {
   "display_name": "Python 3",
   "language": "python",
   "name": "python3"
  },
  "language_info": {
   "codemirror_mode": {
    "name": "ipython",
    "version": 3
   },
   "file_extension": ".py",
   "mimetype": "text/x-python",
   "name": "python",
   "nbconvert_exporter": "python",
   "pygments_lexer": "ipython3",
   "version": "3.6.4"
  }
 },
 "nbformat": 4,
 "nbformat_minor": 2
}
